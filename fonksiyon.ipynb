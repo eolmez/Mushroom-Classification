{
  "nbformat": 4,
  "nbformat_minor": 0,
  "metadata": {
    "colab": {
      "name": "fonksiyon.ipynb",
      "version": "0.3.2",
      "provenance": [],
      "include_colab_link": true
    },
    "kernelspec": {
      "name": "python3",
      "display_name": "Python 3"
    }
  },
  "cells": [
    {
      "cell_type": "markdown",
      "metadata": {
        "id": "view-in-github",
        "colab_type": "text"
      },
      "source": [
        "<a href=\"https://colab.research.google.com/github/eolmez91/MushroomsDataset/blob/master/fonksiyon.ipynb\" target=\"_parent\"><img src=\"https://colab.research.google.com/assets/colab-badge.svg\" alt=\"Open In Colab\"/></a>"
      ]
    },
    {
      "cell_type": "code",
      "metadata": {
        "id": "CiNJzR1fDPv9",
        "colab_type": "code",
        "colab": {}
      },
      "source": [
        "# Diktörtgenin alanını hesaplama v1.\n",
        "\n",
        "def dortgen_alan_hesapla_v1():\n",
        "  kenar1 = int(input(\"Lütfen kenar giriniz: \"))\n",
        "  kenar2 = int(input(\"Lütfen kenar giriniz: \"))\n",
        "  return print(\"Alan: \", kenar1 * kenar2)\n",
        "  "
      ],
      "execution_count": 0,
      "outputs": []
    },
    {
      "cell_type": "code",
      "metadata": {
        "id": "gvZtCFS3Egj-",
        "colab_type": "code",
        "colab": {
          "base_uri": "https://localhost:8080/",
          "height": 67
        },
        "outputId": "87a5cc50-6ed2-49a3-d32d-18f1030d2a23"
      },
      "source": [
        "dortgen_alan_hesapla_v1()"
      ],
      "execution_count": 11,
      "outputs": [
        {
          "output_type": "stream",
          "text": [
            "Lütfen kenar giriniz: 4\n",
            "Lütfen kenar giriniz: 5\n",
            "Alan:  20\n"
          ],
          "name": "stdout"
        }
      ]
    },
    {
      "cell_type": "code",
      "metadata": {
        "id": "smzhH0psEnhV",
        "colab_type": "code",
        "colab": {}
      },
      "source": [
        "# Dairenin alanını hesaplama.\n",
        "def daire_alan_hesapla_v1():\n",
        "  pi = 3.14\n",
        "  cap = int(input(\"Lütfen çapı giriniz: \"))\n",
        "  return print(\"Alan: \", pi * cap/2)"
      ],
      "execution_count": 0,
      "outputs": []
    },
    {
      "cell_type": "code",
      "metadata": {
        "id": "EFFNhNR4Fyfw",
        "colab_type": "code",
        "colab": {
          "base_uri": "https://localhost:8080/",
          "height": 50
        },
        "outputId": "dd10fff0-41a1-4c06-fd8c-835ec68843cb"
      },
      "source": [
        "daire_alan_hesapla_v1()"
      ],
      "execution_count": 13,
      "outputs": [
        {
          "output_type": "stream",
          "text": [
            "Lütfen çapı giriniz: 10\n",
            "Alan:  15.700000000000001\n"
          ],
          "name": "stdout"
        }
      ]
    },
    {
      "cell_type": "code",
      "metadata": {
        "id": "rSl00ufLF1n5",
        "colab_type": "code",
        "colab": {}
      },
      "source": [
        "# Diktörtgenin alanını hesaplama v2.\n",
        "\n",
        "def dortgen_alan_hesapla_v2():\n",
        "  kenar1 = int(input(\"Lütfen kenar giriniz: \"))\n",
        "  kenar2 = int(input(\"Lütfen kenar giriniz: \"))\n",
        "  return print(\"Alan: \", kenar1**2 * kenar2**2)"
      ],
      "execution_count": 0,
      "outputs": []
    },
    {
      "cell_type": "code",
      "metadata": {
        "id": "ud8XMwdmGYEp",
        "colab_type": "code",
        "colab": {
          "base_uri": "https://localhost:8080/",
          "height": 67
        },
        "outputId": "d634495d-334d-497e-ed3c-383fa0e39c90"
      },
      "source": [
        "dortgen_alan_hesapla_v2()"
      ],
      "execution_count": 15,
      "outputs": [
        {
          "output_type": "stream",
          "text": [
            "Lütfen kenar giriniz: 2\n",
            "Lütfen kenar giriniz: 2\n",
            "Alan:  16\n"
          ],
          "name": "stdout"
        }
      ]
    },
    {
      "cell_type": "code",
      "metadata": {
        "id": "-S1IUysgGcHz",
        "colab_type": "code",
        "colab": {}
      },
      "source": [
        "# Dairenin alanını hesaplama v2.\n",
        "def daire_alan_hesapla_v2():\n",
        "  pi = 3.14\n",
        "  cap = int(input(\"Lütfen çapı giriniz: \"))\n",
        "  return print(\"Alan: \", pi * (cap**2)/2)"
      ],
      "execution_count": 0,
      "outputs": []
    },
    {
      "cell_type": "code",
      "metadata": {
        "id": "7VGCi8FRGmmM",
        "colab_type": "code",
        "colab": {
          "base_uri": "https://localhost:8080/",
          "height": 50
        },
        "outputId": "b50484d4-4659-4db3-a39a-708f6217e8e1"
      },
      "source": [
        "daire_alan_hesapla_v2()"
      ],
      "execution_count": 17,
      "outputs": [
        {
          "output_type": "stream",
          "text": [
            "Lütfen çapı giriniz: 4\n",
            "Alan:  25.12\n"
          ],
          "name": "stdout"
        }
      ]
    }
  ]
}